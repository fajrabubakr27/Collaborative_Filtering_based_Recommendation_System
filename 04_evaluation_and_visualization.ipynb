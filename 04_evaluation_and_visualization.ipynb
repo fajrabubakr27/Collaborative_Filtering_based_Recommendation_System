{
  "nbformat": 4,
  "nbformat_minor": 0,
  "metadata": {
    "colab": {
      "provenance": []
    },
    "kernelspec": {
      "name": "python3",
      "display_name": "Python 3"
    },
    "language_info": {
      "name": "python"
    }
  },
  "cells": [
    {
      "cell_type": "code",
      "source": [
        "from surprise import accuracy\n",
        "import matplotlib.pyplot as plt\n",
        "import seaborn as sns\n",
        "import pandas as pd"
      ],
      "metadata": {
        "id": "U5M-k-mFA_CE"
      },
      "execution_count": null,
      "outputs": []
    },
    {
      "cell_type": "code",
      "source": [
        "user_based_rmse = 0.9652\n",
        "item_based_rmse = 0.9728\n"
      ],
      "metadata": {
        "id": "iZrlwmWRAnVz"
      },
      "execution_count": null,
      "outputs": []
    },
    {
      "cell_type": "code",
      "source": [
        "results = pd.DataFrame({\n",
        "    'Model': ['User-Based CF', 'Item-Based CF'],\n",
        "    'RMSE': [user_based_rmse, item_based_rmse]\n",
        "})\n",
        "results\n"
      ],
      "metadata": {
        "id": "UAT-6-VSAoYY"
      },
      "execution_count": null,
      "outputs": []
    },
    {
      "cell_type": "code",
      "source": [
        "sns.barplot(x='Model', y='RMSE', data=results)\n",
        "plt.title('RMSE Comparison between Models')\n",
        "plt.ylim(0.9, 1.1)\n",
        "plt.ylabel('RMSE')\n",
        "plt.xlabel('')\n",
        "plt.show()\n"
      ],
      "metadata": {
        "id": "8K8g5-cnArXV"
      },
      "execution_count": null,
      "outputs": []
    },
    {
      "cell_type": "code",
      "source": [
        "from surprise import Dataset, Reader, KNNBasic\n",
        "import numpy as np\n",
        "\n",
        "ratings = pd.read_csv('/content/data/processed/clean_ratings.csv')\n",
        "reader = Reader(rating_scale=(1, 5))\n",
        "data = Dataset.load_from_df(ratings[['userId', 'movieId', 'rating']], reader)\n",
        "trainset = data.build_full_trainset()\n",
        "\n",
        "sim_options = {\n",
        "    'name': 'cosine',\n",
        "    'user_based': True\n",
        "}\n",
        "model = KNNBasic(sim_options=sim_options)\n",
        "model.fit(trainset)\n",
        "\n",
        "# استخراج مصفوفة التشابه\n",
        "sims_matrix = model.sim\n",
        "\n",
        "# نختار أول 10 مستخدمين فقط لسهولة الرسم\n",
        "sims_df = pd.DataFrame(sims_matrix[:10, :10])\n",
        "\n",
        "plt.figure(figsize=(8, 6))\n",
        "sns.heatmap(sims_df, cmap='viridis', annot=True)\n",
        "plt.title('User Similarity Heatmap (First 10 Users)')\n",
        "plt.xlabel('User ID')\n",
        "plt.ylabel('User ID')\n",
        "plt.show()\n"
      ],
      "metadata": {
        "id": "_gJT_Ep_Awmk"
      },
      "execution_count": null,
      "outputs": []
    },
    {
      "cell_type": "code",
      "source": [
        "results.to_csv('/content/results/rmse_comparison.csv', index=False)\n"
      ],
      "metadata": {
        "id": "IRFYVH9wAxnC"
      },
      "execution_count": null,
      "outputs": []
    }
  ]
}